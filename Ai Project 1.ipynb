{
 "cells": [
  {
   "cell_type": "code",
   "execution_count": 1,
   "id": "2753cbb8",
   "metadata": {},
   "outputs": [],
   "source": [
    "import pandas as pd\n",
    "import numpy as np\n",
    "from sklearn.linear_model import LinearRegression\n",
    "from sklearn.preprocessing import PolynomialFeatures\n",
    "\n",
    "from sklearn.model_selection import train_test_split\n",
    "#feature Selection\n",
    "from sklearn.feature_selection import SelectKBest , f_regression\n",
    "#for Scaling \n",
    "from sklearn import preprocessing\n",
    "from matplotlib import pyplot as plt\n",
    "import seaborn as sns\n",
    "import statsmodels.api as sm\n",
    "from sklearn.metrics import r2_score,mean_squared_error"
   ]
  },
  {
   "cell_type": "code",
   "execution_count": 2,
   "id": "c60e4df6",
   "metadata": {},
   "outputs": [],
   "source": [
    "data=pd.read_csv(r'C:\\Users\\karim\\Downloads\\tmdb-movies (2) (1).csv')"
   ]
  },
  {
   "cell_type": "code",
   "execution_count": 6,
   "id": "3c7533d4",
   "metadata": {},
   "outputs": [],
   "source": [
    "data=data.drop(\n",
    "    [\n",
    "     'id',\n",
    "     'overview',\n",
    "     'imdb_id',\n",
    "     'director',\n",
    "     'keywords',\n",
    "     'tagline',\n",
    "     'homepage',\n",
    "     'original_title',\n",
    "     'release_date',\n",
    "     ],\n",
    "    axis=1\n",
    "    )"
   ]
  },
  {
   "cell_type": "code",
   "execution_count": 7,
   "id": "52bae134",
   "metadata": {},
   "outputs": [
    {
     "data": {
      "text/html": [
       "<div>\n",
       "<style scoped>\n",
       "    .dataframe tbody tr th:only-of-type {\n",
       "        vertical-align: middle;\n",
       "    }\n",
       "\n",
       "    .dataframe tbody tr th {\n",
       "        vertical-align: top;\n",
       "    }\n",
       "\n",
       "    .dataframe thead th {\n",
       "        text-align: right;\n",
       "    }\n",
       "</style>\n",
       "<table border=\"1\" class=\"dataframe\">\n",
       "  <thead>\n",
       "    <tr style=\"text-align: right;\">\n",
       "      <th></th>\n",
       "      <th>popularity</th>\n",
       "      <th>cast</th>\n",
       "      <th>runtime</th>\n",
       "      <th>genres</th>\n",
       "      <th>production_companies</th>\n",
       "      <th>vote_count</th>\n",
       "      <th>vote_average</th>\n",
       "      <th>release_year</th>\n",
       "      <th>budget_adj</th>\n",
       "      <th>revenue_adj</th>\n",
       "    </tr>\n",
       "  </thead>\n",
       "  <tbody>\n",
       "    <tr>\n",
       "      <th>0</th>\n",
       "      <td>32.985763</td>\n",
       "      <td>Chris Pratt|Bryce Dallas Howard|Irrfan Khan|Vi...</td>\n",
       "      <td>124</td>\n",
       "      <td>Action|Adventure|Science Fiction|Thriller</td>\n",
       "      <td>Universal Studios|Amblin Entertainment|Legenda...</td>\n",
       "      <td>5562</td>\n",
       "      <td>6.5</td>\n",
       "      <td>2015</td>\n",
       "      <td>137999939.3</td>\n",
       "      <td>1.392446e+09</td>\n",
       "    </tr>\n",
       "    <tr>\n",
       "      <th>1</th>\n",
       "      <td>28.419936</td>\n",
       "      <td>Tom Hardy|Charlize Theron|Hugh Keays-Byrne|Nic...</td>\n",
       "      <td>120</td>\n",
       "      <td>Action|Adventure|Science Fiction|Thriller</td>\n",
       "      <td>Village Roadshow Pictures|Kennedy Miller Produ...</td>\n",
       "      <td>6185</td>\n",
       "      <td>7.1</td>\n",
       "      <td>2015</td>\n",
       "      <td>137999939.3</td>\n",
       "      <td>3.481613e+08</td>\n",
       "    </tr>\n",
       "    <tr>\n",
       "      <th>2</th>\n",
       "      <td>13.112507</td>\n",
       "      <td>Shailene Woodley|Theo James|Kate Winslet|Ansel...</td>\n",
       "      <td>119</td>\n",
       "      <td>Adventure|Science Fiction|Thriller</td>\n",
       "      <td>Summit Entertainment|Mandeville Films|Red Wago...</td>\n",
       "      <td>2480</td>\n",
       "      <td>6.3</td>\n",
       "      <td>2015</td>\n",
       "      <td>101199955.5</td>\n",
       "      <td>2.716190e+08</td>\n",
       "    </tr>\n",
       "    <tr>\n",
       "      <th>3</th>\n",
       "      <td>11.173104</td>\n",
       "      <td>Harrison Ford|Mark Hamill|Carrie Fisher|Adam D...</td>\n",
       "      <td>136</td>\n",
       "      <td>Action|Adventure|Science Fiction|Fantasy</td>\n",
       "      <td>Lucasfilm|Truenorth Productions|Bad Robot</td>\n",
       "      <td>5292</td>\n",
       "      <td>7.5</td>\n",
       "      <td>2015</td>\n",
       "      <td>183999919.0</td>\n",
       "      <td>1.902723e+09</td>\n",
       "    </tr>\n",
       "    <tr>\n",
       "      <th>4</th>\n",
       "      <td>9.335014</td>\n",
       "      <td>Vin Diesel|Paul Walker|Jason Statham|Michelle ...</td>\n",
       "      <td>137</td>\n",
       "      <td>Action|Crime|Thriller</td>\n",
       "      <td>Universal Pictures|Original Film|Media Rights ...</td>\n",
       "      <td>2947</td>\n",
       "      <td>7.3</td>\n",
       "      <td>2015</td>\n",
       "      <td>174799923.1</td>\n",
       "      <td>1.385749e+09</td>\n",
       "    </tr>\n",
       "  </tbody>\n",
       "</table>\n",
       "</div>"
      ],
      "text/plain": [
       "   popularity                                               cast  runtime  \\\n",
       "0   32.985763  Chris Pratt|Bryce Dallas Howard|Irrfan Khan|Vi...      124   \n",
       "1   28.419936  Tom Hardy|Charlize Theron|Hugh Keays-Byrne|Nic...      120   \n",
       "2   13.112507  Shailene Woodley|Theo James|Kate Winslet|Ansel...      119   \n",
       "3   11.173104  Harrison Ford|Mark Hamill|Carrie Fisher|Adam D...      136   \n",
       "4    9.335014  Vin Diesel|Paul Walker|Jason Statham|Michelle ...      137   \n",
       "\n",
       "                                      genres  \\\n",
       "0  Action|Adventure|Science Fiction|Thriller   \n",
       "1  Action|Adventure|Science Fiction|Thriller   \n",
       "2         Adventure|Science Fiction|Thriller   \n",
       "3   Action|Adventure|Science Fiction|Fantasy   \n",
       "4                      Action|Crime|Thriller   \n",
       "\n",
       "                                production_companies  vote_count  \\\n",
       "0  Universal Studios|Amblin Entertainment|Legenda...        5562   \n",
       "1  Village Roadshow Pictures|Kennedy Miller Produ...        6185   \n",
       "2  Summit Entertainment|Mandeville Films|Red Wago...        2480   \n",
       "3          Lucasfilm|Truenorth Productions|Bad Robot        5292   \n",
       "4  Universal Pictures|Original Film|Media Rights ...        2947   \n",
       "\n",
       "   vote_average  release_year   budget_adj   revenue_adj  \n",
       "0           6.5          2015  137999939.3  1.392446e+09  \n",
       "1           7.1          2015  137999939.3  3.481613e+08  \n",
       "2           6.3          2015  101199955.5  2.716190e+08  \n",
       "3           7.5          2015  183999919.0  1.902723e+09  \n",
       "4           7.3          2015  174799923.1  1.385749e+09  "
      ]
     },
     "execution_count": 7,
     "metadata": {},
     "output_type": "execute_result"
    }
   ],
   "source": [
    "data.head()"
   ]
  },
  {
   "cell_type": "code",
   "execution_count": 8,
   "id": "9c6ba63e",
   "metadata": {},
   "outputs": [
    {
     "name": "stdout",
     "output_type": "stream",
     "text": [
      "popularity                 0\n",
      "runtime                    0\n",
      "vote_count                 0\n",
      "vote_average               0\n",
      "release_year               0\n",
      "budget_adj                 0\n",
      "revenue_adj                0\n",
      "genres                    23\n",
      "cast                      76\n",
      "production_companies    1030\n",
      "dtype: int64\n"
     ]
    }
   ],
   "source": [
    "print(data.isnull().sum().sort_values())"
   ]
  },
  {
   "cell_type": "code",
   "execution_count": 9,
   "id": "c85944fb",
   "metadata": {},
   "outputs": [
    {
     "name": "stdout",
     "output_type": "stream",
     "text": [
      "<class 'pandas.core.frame.DataFrame'>\n",
      "RangeIndex: 10866 entries, 0 to 10865\n",
      "Data columns (total 10 columns):\n",
      " #   Column                Non-Null Count  Dtype  \n",
      "---  ------                --------------  -----  \n",
      " 0   popularity            10866 non-null  float64\n",
      " 1   cast                  10790 non-null  object \n",
      " 2   runtime               10866 non-null  int64  \n",
      " 3   genres                10843 non-null  object \n",
      " 4   production_companies  9836 non-null   object \n",
      " 5   vote_count            10866 non-null  int64  \n",
      " 6   vote_average          10866 non-null  float64\n",
      " 7   release_year          10866 non-null  int64  \n",
      " 8   budget_adj            10866 non-null  float64\n",
      " 9   revenue_adj           10866 non-null  float64\n",
      "dtypes: float64(4), int64(3), object(3)\n",
      "memory usage: 849.0+ KB\n"
     ]
    }
   ],
   "source": [
    "data.info()"
   ]
  },
  {
   "cell_type": "code",
   "execution_count": 10,
   "id": "23e6eda3",
   "metadata": {},
   "outputs": [],
   "source": [
    "data=data.drop_duplicates()"
   ]
  },
  {
   "cell_type": "code",
   "execution_count": 11,
   "id": "5655b685",
   "metadata": {},
   "outputs": [],
   "source": [
    "data['profit']=data.revenue_adj-data.budget_adj"
   ]
  },
  {
   "cell_type": "code",
   "execution_count": 12,
   "id": "8741e30d",
   "metadata": {},
   "outputs": [],
   "source": [
    "data=data.drop(\n",
    "['revenue_adj','budget_adj'\n",
    "],axis=1)"
   ]
  },
  {
   "cell_type": "code",
   "execution_count": 13,
   "id": "e18086a7",
   "metadata": {},
   "outputs": [],
   "source": [
    "data.dropna(subset = [\"production_companies\"], inplace=True)"
   ]
  },
  {
   "cell_type": "code",
   "execution_count": 14,
   "id": "7ec9b76f",
   "metadata": {},
   "outputs": [],
   "source": [
    "data.dropna(subset = [\"cast\"], inplace=True)"
   ]
  },
  {
   "cell_type": "code",
   "execution_count": 15,
   "id": "3d56cf40",
   "metadata": {},
   "outputs": [],
   "source": [
    "data.dropna(subset = [\"genres\"], inplace=True)"
   ]
  },
  {
   "cell_type": "code",
   "execution_count": 4,
   "id": "c357fe5d",
   "metadata": {
    "collapsed": true
   },
   "outputs": [
    {
     "name": "stderr",
     "output_type": "stream",
     "text": [
      "C:\\Users\\karim\\AppData\\Local\\Temp\\ipykernel_7104\\3049963410.py:1: DeprecationWarning: `np.bool` is a deprecated alias for the builtin `bool`. To silence this warning, use `bool` by itself. Doing this will not modify any behavior and is safe. If you specifically wanted the numpy scalar type, use `np.bool_` here.\n",
      "Deprecated in NumPy 1.20; for more details and guidance: https://numpy.org/devdocs/release/1.20.0-notes.html#deprecations\n",
      "  upper_tri = cor_matrix.where (np.triu(np.ones(cor_matrix.shape),k=1).astype(np.bool))\n"
     ]
    },
    {
     "data": {
      "text/html": [
       "<div>\n",
       "<style scoped>\n",
       "    .dataframe tbody tr th:only-of-type {\n",
       "        vertical-align: middle;\n",
       "    }\n",
       "\n",
       "    .dataframe tbody tr th {\n",
       "        vertical-align: top;\n",
       "    }\n",
       "\n",
       "    .dataframe thead th {\n",
       "        text-align: right;\n",
       "    }\n",
       "</style>\n",
       "<table border=\"1\" class=\"dataframe\">\n",
       "  <thead>\n",
       "    <tr style=\"text-align: right;\">\n",
       "      <th></th>\n",
       "      <th>id</th>\n",
       "      <th>popularity</th>\n",
       "      <th>runtime</th>\n",
       "      <th>vote_count</th>\n",
       "      <th>vote_average</th>\n",
       "      <th>release_year</th>\n",
       "      <th>budget_adj</th>\n",
       "      <th>revenue_adj</th>\n",
       "    </tr>\n",
       "  </thead>\n",
       "  <tbody>\n",
       "    <tr>\n",
       "      <th>id</th>\n",
       "      <td>NaN</td>\n",
       "      <td>0.01435</td>\n",
       "      <td>0.088360</td>\n",
       "      <td>0.035551</td>\n",
       "      <td>0.058363</td>\n",
       "      <td>0.511364</td>\n",
       "      <td>0.189015</td>\n",
       "      <td>0.138477</td>\n",
       "    </tr>\n",
       "    <tr>\n",
       "      <th>popularity</th>\n",
       "      <td>NaN</td>\n",
       "      <td>NaN</td>\n",
       "      <td>0.139033</td>\n",
       "      <td>0.800828</td>\n",
       "      <td>0.209511</td>\n",
       "      <td>0.089801</td>\n",
       "      <td>0.513550</td>\n",
       "      <td>0.609083</td>\n",
       "    </tr>\n",
       "    <tr>\n",
       "      <th>runtime</th>\n",
       "      <td>NaN</td>\n",
       "      <td>NaN</td>\n",
       "      <td>NaN</td>\n",
       "      <td>0.163278</td>\n",
       "      <td>0.156835</td>\n",
       "      <td>0.117204</td>\n",
       "      <td>0.221114</td>\n",
       "      <td>0.175676</td>\n",
       "    </tr>\n",
       "    <tr>\n",
       "      <th>vote_count</th>\n",
       "      <td>NaN</td>\n",
       "      <td>NaN</td>\n",
       "      <td>NaN</td>\n",
       "      <td>NaN</td>\n",
       "      <td>0.253823</td>\n",
       "      <td>0.107948</td>\n",
       "      <td>0.587051</td>\n",
       "      <td>0.707942</td>\n",
       "    </tr>\n",
       "    <tr>\n",
       "      <th>vote_average</th>\n",
       "      <td>NaN</td>\n",
       "      <td>NaN</td>\n",
       "      <td>NaN</td>\n",
       "      <td>NaN</td>\n",
       "      <td>NaN</td>\n",
       "      <td>0.117632</td>\n",
       "      <td>0.093039</td>\n",
       "      <td>0.193085</td>\n",
       "    </tr>\n",
       "    <tr>\n",
       "      <th>release_year</th>\n",
       "      <td>NaN</td>\n",
       "      <td>NaN</td>\n",
       "      <td>NaN</td>\n",
       "      <td>NaN</td>\n",
       "      <td>NaN</td>\n",
       "      <td>NaN</td>\n",
       "      <td>0.016793</td>\n",
       "      <td>0.066256</td>\n",
       "    </tr>\n",
       "    <tr>\n",
       "      <th>budget_adj</th>\n",
       "      <td>NaN</td>\n",
       "      <td>NaN</td>\n",
       "      <td>NaN</td>\n",
       "      <td>NaN</td>\n",
       "      <td>NaN</td>\n",
       "      <td>NaN</td>\n",
       "      <td>NaN</td>\n",
       "      <td>0.646607</td>\n",
       "    </tr>\n",
       "    <tr>\n",
       "      <th>revenue_adj</th>\n",
       "      <td>NaN</td>\n",
       "      <td>NaN</td>\n",
       "      <td>NaN</td>\n",
       "      <td>NaN</td>\n",
       "      <td>NaN</td>\n",
       "      <td>NaN</td>\n",
       "      <td>NaN</td>\n",
       "      <td>NaN</td>\n",
       "    </tr>\n",
       "  </tbody>\n",
       "</table>\n",
       "</div>"
      ],
      "text/plain": [
       "              id  popularity   runtime  vote_count  vote_average  \\\n",
       "id           NaN     0.01435  0.088360    0.035551      0.058363   \n",
       "popularity   NaN         NaN  0.139033    0.800828      0.209511   \n",
       "runtime      NaN         NaN       NaN    0.163278      0.156835   \n",
       "vote_count   NaN         NaN       NaN         NaN      0.253823   \n",
       "vote_average NaN         NaN       NaN         NaN           NaN   \n",
       "release_year NaN         NaN       NaN         NaN           NaN   \n",
       "budget_adj   NaN         NaN       NaN         NaN           NaN   \n",
       "revenue_adj  NaN         NaN       NaN         NaN           NaN   \n",
       "\n",
       "              release_year  budget_adj  revenue_adj  \n",
       "id                0.511364    0.189015     0.138477  \n",
       "popularity        0.089801    0.513550     0.609083  \n",
       "runtime           0.117204    0.221114     0.175676  \n",
       "vote_count        0.107948    0.587051     0.707942  \n",
       "vote_average      0.117632    0.093039     0.193085  \n",
       "release_year           NaN    0.016793     0.066256  \n",
       "budget_adj             NaN         NaN     0.646607  \n",
       "revenue_adj            NaN         NaN          NaN  "
      ]
     },
     "execution_count": 4,
     "metadata": {},
     "output_type": "execute_result"
    }
   ],
   "source": [
    "upper_tri = cor_matrix.where (np.triu(np.ones(cor_matrix.shape),k=1).astype(np.bool))\n",
    "upper_tri"
   ]
  },
  {
   "cell_type": "code",
   "execution_count": 3,
   "id": "927a4374",
   "metadata": {
    "collapsed": true
   },
   "outputs": [
    {
     "data": {
      "text/html": [
       "<div>\n",
       "<style scoped>\n",
       "    .dataframe tbody tr th:only-of-type {\n",
       "        vertical-align: middle;\n",
       "    }\n",
       "\n",
       "    .dataframe tbody tr th {\n",
       "        vertical-align: top;\n",
       "    }\n",
       "\n",
       "    .dataframe thead th {\n",
       "        text-align: right;\n",
       "    }\n",
       "</style>\n",
       "<table border=\"1\" class=\"dataframe\">\n",
       "  <thead>\n",
       "    <tr style=\"text-align: right;\">\n",
       "      <th></th>\n",
       "      <th>id</th>\n",
       "      <th>popularity</th>\n",
       "      <th>runtime</th>\n",
       "      <th>vote_count</th>\n",
       "      <th>vote_average</th>\n",
       "      <th>release_year</th>\n",
       "      <th>budget_adj</th>\n",
       "      <th>revenue_adj</th>\n",
       "    </tr>\n",
       "  </thead>\n",
       "  <tbody>\n",
       "    <tr>\n",
       "      <th>id</th>\n",
       "      <td>1.000000</td>\n",
       "      <td>0.014350</td>\n",
       "      <td>0.088360</td>\n",
       "      <td>0.035551</td>\n",
       "      <td>0.058363</td>\n",
       "      <td>0.511364</td>\n",
       "      <td>0.189015</td>\n",
       "      <td>0.138477</td>\n",
       "    </tr>\n",
       "    <tr>\n",
       "      <th>popularity</th>\n",
       "      <td>0.014350</td>\n",
       "      <td>1.000000</td>\n",
       "      <td>0.139033</td>\n",
       "      <td>0.800828</td>\n",
       "      <td>0.209511</td>\n",
       "      <td>0.089801</td>\n",
       "      <td>0.513550</td>\n",
       "      <td>0.609083</td>\n",
       "    </tr>\n",
       "    <tr>\n",
       "      <th>runtime</th>\n",
       "      <td>0.088360</td>\n",
       "      <td>0.139033</td>\n",
       "      <td>1.000000</td>\n",
       "      <td>0.163278</td>\n",
       "      <td>0.156835</td>\n",
       "      <td>0.117204</td>\n",
       "      <td>0.221114</td>\n",
       "      <td>0.175676</td>\n",
       "    </tr>\n",
       "    <tr>\n",
       "      <th>vote_count</th>\n",
       "      <td>0.035551</td>\n",
       "      <td>0.800828</td>\n",
       "      <td>0.163278</td>\n",
       "      <td>1.000000</td>\n",
       "      <td>0.253823</td>\n",
       "      <td>0.107948</td>\n",
       "      <td>0.587051</td>\n",
       "      <td>0.707942</td>\n",
       "    </tr>\n",
       "    <tr>\n",
       "      <th>vote_average</th>\n",
       "      <td>0.058363</td>\n",
       "      <td>0.209511</td>\n",
       "      <td>0.156835</td>\n",
       "      <td>0.253823</td>\n",
       "      <td>1.000000</td>\n",
       "      <td>0.117632</td>\n",
       "      <td>0.093039</td>\n",
       "      <td>0.193085</td>\n",
       "    </tr>\n",
       "    <tr>\n",
       "      <th>release_year</th>\n",
       "      <td>0.511364</td>\n",
       "      <td>0.089801</td>\n",
       "      <td>0.117204</td>\n",
       "      <td>0.107948</td>\n",
       "      <td>0.117632</td>\n",
       "      <td>1.000000</td>\n",
       "      <td>0.016793</td>\n",
       "      <td>0.066256</td>\n",
       "    </tr>\n",
       "    <tr>\n",
       "      <th>budget_adj</th>\n",
       "      <td>0.189015</td>\n",
       "      <td>0.513550</td>\n",
       "      <td>0.221114</td>\n",
       "      <td>0.587051</td>\n",
       "      <td>0.093039</td>\n",
       "      <td>0.016793</td>\n",
       "      <td>1.000000</td>\n",
       "      <td>0.646607</td>\n",
       "    </tr>\n",
       "    <tr>\n",
       "      <th>revenue_adj</th>\n",
       "      <td>0.138477</td>\n",
       "      <td>0.609083</td>\n",
       "      <td>0.175676</td>\n",
       "      <td>0.707942</td>\n",
       "      <td>0.193085</td>\n",
       "      <td>0.066256</td>\n",
       "      <td>0.646607</td>\n",
       "      <td>1.000000</td>\n",
       "    </tr>\n",
       "  </tbody>\n",
       "</table>\n",
       "</div>"
      ],
      "text/plain": [
       "                    id  popularity   runtime  vote_count  vote_average  \\\n",
       "id            1.000000    0.014350  0.088360    0.035551      0.058363   \n",
       "popularity    0.014350    1.000000  0.139033    0.800828      0.209511   \n",
       "runtime       0.088360    0.139033  1.000000    0.163278      0.156835   \n",
       "vote_count    0.035551    0.800828  0.163278    1.000000      0.253823   \n",
       "vote_average  0.058363    0.209511  0.156835    0.253823      1.000000   \n",
       "release_year  0.511364    0.089801  0.117204    0.107948      0.117632   \n",
       "budget_adj    0.189015    0.513550  0.221114    0.587051      0.093039   \n",
       "revenue_adj   0.138477    0.609083  0.175676    0.707942      0.193085   \n",
       "\n",
       "              release_year  budget_adj  revenue_adj  \n",
       "id                0.511364    0.189015     0.138477  \n",
       "popularity        0.089801    0.513550     0.609083  \n",
       "runtime           0.117204    0.221114     0.175676  \n",
       "vote_count        0.107948    0.587051     0.707942  \n",
       "vote_average      0.117632    0.093039     0.193085  \n",
       "release_year      1.000000    0.016793     0.066256  \n",
       "budget_adj        0.016793    1.000000     0.646607  \n",
       "revenue_adj       0.066256    0.646607     1.000000  "
      ]
     },
     "execution_count": 3,
     "metadata": {},
     "output_type": "execute_result"
    }
   ],
   "source": [
    "cor_matrix  = data.corr().abs()\n",
    "cor_matrix"
   ]
  },
  {
   "cell_type": "code",
   "execution_count": 5,
   "id": "f0b5fe7a",
   "metadata": {
    "collapsed": true
   },
   "outputs": [
    {
     "data": {
      "text/plain": [
       "['id',\n",
       " 'popularity',\n",
       " 'runtime',\n",
       " 'vote_count',\n",
       " 'vote_average',\n",
       " 'release_year',\n",
       " 'budget_adj',\n",
       " 'revenue_adj']"
      ]
     },
     "execution_count": 5,
     "metadata": {},
     "output_type": "execute_result"
    }
   ],
   "source": [
    "to_drop =[column for column in upper_tri.columns if any(upper_tri[column])  >(0.5)]\n",
    "to_drop"
   ]
  },
  {
   "cell_type": "code",
   "execution_count": 16,
   "id": "91c5a7bd",
   "metadata": {},
   "outputs": [],
   "source": [
    "dumies1=data['genres'].str.get_dummies(sep=\"|\")\n",
    "data=data.drop(['genres'],axis=1)"
   ]
  },
  {
   "cell_type": "code",
   "execution_count": 17,
   "id": "e64cbb61",
   "metadata": {},
   "outputs": [],
   "source": [
    "dumies2=data['production_companies'].str.get_dummies(sep=\"|\")\n",
    "data=data.drop(['production_companies'],axis=1)"
   ]
  },
  {
   "cell_type": "code",
   "execution_count": 18,
   "id": "178952f4",
   "metadata": {},
   "outputs": [],
   "source": [
    "dumies3=data['cast'].str.get_dummies(sep=\"|\")\n",
    "data=data.drop(['cast'],axis=1)"
   ]
  },
  {
   "cell_type": "code",
   "execution_count": 19,
   "id": "fea5c52b",
   "metadata": {},
   "outputs": [],
   "source": [
    "data=pd.concat([data,dumies1],axis='columns')\n",
    "data=pd.concat([data,dumies2],axis='columns')\n",
    "data=pd.concat([data,dumies3],axis='columns')"
   ]
  },
  {
   "cell_type": "code",
   "execution_count": 20,
   "id": "b5a9744c",
   "metadata": {},
   "outputs": [],
   "source": [
    "x=data.drop(['profit'],axis=1)\n",
    "y=data['profit'] "
   ]
  },
  {
   "cell_type": "code",
   "execution_count": 21,
   "id": "13360b41",
   "metadata": {
    "collapsed": true
   },
   "outputs": [
    {
     "data": {
      "text/html": [
       "<div>\n",
       "<style scoped>\n",
       "    .dataframe tbody tr th:only-of-type {\n",
       "        vertical-align: middle;\n",
       "    }\n",
       "\n",
       "    .dataframe tbody tr th {\n",
       "        vertical-align: top;\n",
       "    }\n",
       "\n",
       "    .dataframe thead th {\n",
       "        text-align: right;\n",
       "    }\n",
       "</style>\n",
       "<table border=\"1\" class=\"dataframe\">\n",
       "  <thead>\n",
       "    <tr style=\"text-align: right;\">\n",
       "      <th></th>\n",
       "      <th>popularity</th>\n",
       "      <th>runtime</th>\n",
       "      <th>vote_count</th>\n",
       "      <th>vote_average</th>\n",
       "      <th>release_year</th>\n",
       "      <th>profit</th>\n",
       "      <th>Action</th>\n",
       "      <th>Adventure</th>\n",
       "      <th>Animation</th>\n",
       "      <th>Comedy</th>\n",
       "      <th>...</th>\n",
       "      <th>Ã‰lodie Navarre</th>\n",
       "      <th>Ã‰milie Dequenne</th>\n",
       "      <th>Ã‰ric Caravaca</th>\n",
       "      <th>Ã‰va IgÃ³</th>\n",
       "      <th>Ã€lex BrendemÃ¼hl</th>\n",
       "      <th>Ã€lex Monner</th>\n",
       "      <th>Äá»— Thá»‹ Háº£i Yáº¿n</th>\n",
       "      <th>Å arÅ«nas Bartas</th>\n",
       "      <th>à¸ªà¸£à¸žà¸‡à¸©à¹Œ à¸Šà¸²à¸•à¸£à¸µ</th>\n",
       "      <th>é‚±æ·‘è²ž</th>\n",
       "    </tr>\n",
       "  </thead>\n",
       "  <tbody>\n",
       "    <tr>\n",
       "      <th>count</th>\n",
       "      <td>9791.000000</td>\n",
       "      <td>9791.000000</td>\n",
       "      <td>9791.000000</td>\n",
       "      <td>9791.000000</td>\n",
       "      <td>9791.000000</td>\n",
       "      <td>9.791000e+03</td>\n",
       "      <td>9791.000000</td>\n",
       "      <td>9791.000000</td>\n",
       "      <td>9791.000000</td>\n",
       "      <td>9791.000000</td>\n",
       "      <td>...</td>\n",
       "      <td>9791.000000</td>\n",
       "      <td>9791.000000</td>\n",
       "      <td>9791.000000</td>\n",
       "      <td>9791.000000</td>\n",
       "      <td>9791.000000</td>\n",
       "      <td>9791.000000</td>\n",
       "      <td>9791.000000</td>\n",
       "      <td>9791.000000</td>\n",
       "      <td>9791.000000</td>\n",
       "      <td>9791.000000</td>\n",
       "    </tr>\n",
       "    <tr>\n",
       "      <th>mean</th>\n",
       "      <td>0.693655</td>\n",
       "      <td>102.861812</td>\n",
       "      <td>238.886222</td>\n",
       "      <td>5.964988</td>\n",
       "      <td>2000.892759</td>\n",
       "      <td>3.756442e+07</td>\n",
       "      <td>0.228577</td>\n",
       "      <td>0.141763</td>\n",
       "      <td>0.063323</td>\n",
       "      <td>0.351037</td>\n",
       "      <td>...</td>\n",
       "      <td>0.000102</td>\n",
       "      <td>0.000102</td>\n",
       "      <td>0.000102</td>\n",
       "      <td>0.000102</td>\n",
       "      <td>0.000102</td>\n",
       "      <td>0.000102</td>\n",
       "      <td>0.000102</td>\n",
       "      <td>0.000102</td>\n",
       "      <td>0.000102</td>\n",
       "      <td>0.000102</td>\n",
       "    </tr>\n",
       "    <tr>\n",
       "      <th>std</th>\n",
       "      <td>1.036216</td>\n",
       "      <td>27.944276</td>\n",
       "      <td>602.503591</td>\n",
       "      <td>0.913433</td>\n",
       "      <td>13.037008</td>\n",
       "      <td>1.313583e+08</td>\n",
       "      <td>0.419938</td>\n",
       "      <td>0.348825</td>\n",
       "      <td>0.243556</td>\n",
       "      <td>0.477319</td>\n",
       "      <td>...</td>\n",
       "      <td>0.010106</td>\n",
       "      <td>0.010106</td>\n",
       "      <td>0.010106</td>\n",
       "      <td>0.010106</td>\n",
       "      <td>0.010106</td>\n",
       "      <td>0.010106</td>\n",
       "      <td>0.010106</td>\n",
       "      <td>0.010106</td>\n",
       "      <td>0.010106</td>\n",
       "      <td>0.010106</td>\n",
       "    </tr>\n",
       "    <tr>\n",
       "      <th>min</th>\n",
       "      <td>0.000188</td>\n",
       "      <td>0.000000</td>\n",
       "      <td>10.000000</td>\n",
       "      <td>1.500000</td>\n",
       "      <td>1960.000000</td>\n",
       "      <td>-4.139124e+08</td>\n",
       "      <td>0.000000</td>\n",
       "      <td>0.000000</td>\n",
       "      <td>0.000000</td>\n",
       "      <td>0.000000</td>\n",
       "      <td>...</td>\n",
       "      <td>0.000000</td>\n",
       "      <td>0.000000</td>\n",
       "      <td>0.000000</td>\n",
       "      <td>0.000000</td>\n",
       "      <td>0.000000</td>\n",
       "      <td>0.000000</td>\n",
       "      <td>0.000000</td>\n",
       "      <td>0.000000</td>\n",
       "      <td>0.000000</td>\n",
       "      <td>0.000000</td>\n",
       "    </tr>\n",
       "    <tr>\n",
       "      <th>25%</th>\n",
       "      <td>0.231604</td>\n",
       "      <td>90.000000</td>\n",
       "      <td>18.000000</td>\n",
       "      <td>5.400000</td>\n",
       "      <td>1994.000000</td>\n",
       "      <td>0.000000e+00</td>\n",
       "      <td>0.000000</td>\n",
       "      <td>0.000000</td>\n",
       "      <td>0.000000</td>\n",
       "      <td>0.000000</td>\n",
       "      <td>...</td>\n",
       "      <td>0.000000</td>\n",
       "      <td>0.000000</td>\n",
       "      <td>0.000000</td>\n",
       "      <td>0.000000</td>\n",
       "      <td>0.000000</td>\n",
       "      <td>0.000000</td>\n",
       "      <td>0.000000</td>\n",
       "      <td>0.000000</td>\n",
       "      <td>0.000000</td>\n",
       "      <td>0.000000</td>\n",
       "    </tr>\n",
       "    <tr>\n",
       "      <th>50%</th>\n",
       "      <td>0.419114</td>\n",
       "      <td>100.000000</td>\n",
       "      <td>46.000000</td>\n",
       "      <td>6.000000</td>\n",
       "      <td>2005.000000</td>\n",
       "      <td>0.000000e+00</td>\n",
       "      <td>0.000000</td>\n",
       "      <td>0.000000</td>\n",
       "      <td>0.000000</td>\n",
       "      <td>0.000000</td>\n",
       "      <td>...</td>\n",
       "      <td>0.000000</td>\n",
       "      <td>0.000000</td>\n",
       "      <td>0.000000</td>\n",
       "      <td>0.000000</td>\n",
       "      <td>0.000000</td>\n",
       "      <td>0.000000</td>\n",
       "      <td>0.000000</td>\n",
       "      <td>0.000000</td>\n",
       "      <td>0.000000</td>\n",
       "      <td>0.000000</td>\n",
       "    </tr>\n",
       "    <tr>\n",
       "      <th>75%</th>\n",
       "      <td>0.775201</td>\n",
       "      <td>112.000000</td>\n",
       "      <td>173.000000</td>\n",
       "      <td>6.600000</td>\n",
       "      <td>2011.000000</td>\n",
       "      <td>2.012071e+07</td>\n",
       "      <td>0.000000</td>\n",
       "      <td>0.000000</td>\n",
       "      <td>0.000000</td>\n",
       "      <td>1.000000</td>\n",
       "      <td>...</td>\n",
       "      <td>0.000000</td>\n",
       "      <td>0.000000</td>\n",
       "      <td>0.000000</td>\n",
       "      <td>0.000000</td>\n",
       "      <td>0.000000</td>\n",
       "      <td>0.000000</td>\n",
       "      <td>0.000000</td>\n",
       "      <td>0.000000</td>\n",
       "      <td>0.000000</td>\n",
       "      <td>0.000000</td>\n",
       "    </tr>\n",
       "    <tr>\n",
       "      <th>max</th>\n",
       "      <td>32.985763</td>\n",
       "      <td>877.000000</td>\n",
       "      <td>9767.000000</td>\n",
       "      <td>8.700000</td>\n",
       "      <td>2015.000000</td>\n",
       "      <td>2.750137e+09</td>\n",
       "      <td>1.000000</td>\n",
       "      <td>1.000000</td>\n",
       "      <td>1.000000</td>\n",
       "      <td>1.000000</td>\n",
       "      <td>...</td>\n",
       "      <td>1.000000</td>\n",
       "      <td>1.000000</td>\n",
       "      <td>1.000000</td>\n",
       "      <td>1.000000</td>\n",
       "      <td>1.000000</td>\n",
       "      <td>1.000000</td>\n",
       "      <td>1.000000</td>\n",
       "      <td>1.000000</td>\n",
       "      <td>1.000000</td>\n",
       "      <td>1.000000</td>\n",
       "    </tr>\n",
       "  </tbody>\n",
       "</table>\n",
       "<p>8 rows × 25034 columns</p>\n",
       "</div>"
      ],
      "text/plain": [
       "        popularity      runtime   vote_count  vote_average  release_year  \\\n",
       "count  9791.000000  9791.000000  9791.000000   9791.000000   9791.000000   \n",
       "mean      0.693655   102.861812   238.886222      5.964988   2000.892759   \n",
       "std       1.036216    27.944276   602.503591      0.913433     13.037008   \n",
       "min       0.000188     0.000000    10.000000      1.500000   1960.000000   \n",
       "25%       0.231604    90.000000    18.000000      5.400000   1994.000000   \n",
       "50%       0.419114   100.000000    46.000000      6.000000   2005.000000   \n",
       "75%       0.775201   112.000000   173.000000      6.600000   2011.000000   \n",
       "max      32.985763   877.000000  9767.000000      8.700000   2015.000000   \n",
       "\n",
       "             profit       Action    Adventure    Animation       Comedy  ...  \\\n",
       "count  9.791000e+03  9791.000000  9791.000000  9791.000000  9791.000000  ...   \n",
       "mean   3.756442e+07     0.228577     0.141763     0.063323     0.351037  ...   \n",
       "std    1.313583e+08     0.419938     0.348825     0.243556     0.477319  ...   \n",
       "min   -4.139124e+08     0.000000     0.000000     0.000000     0.000000  ...   \n",
       "25%    0.000000e+00     0.000000     0.000000     0.000000     0.000000  ...   \n",
       "50%    0.000000e+00     0.000000     0.000000     0.000000     0.000000  ...   \n",
       "75%    2.012071e+07     0.000000     0.000000     0.000000     1.000000  ...   \n",
       "max    2.750137e+09     1.000000     1.000000     1.000000     1.000000  ...   \n",
       "\n",
       "       Ã‰lodie Navarre  Ã‰milie Dequenne  Ã‰ric Caravaca    Ã‰va IgÃ³  \\\n",
       "count      9791.000000       9791.000000     9791.000000  9791.000000   \n",
       "mean          0.000102          0.000102        0.000102     0.000102   \n",
       "std           0.010106          0.010106        0.010106     0.010106   \n",
       "min           0.000000          0.000000        0.000000     0.000000   \n",
       "25%           0.000000          0.000000        0.000000     0.000000   \n",
       "50%           0.000000          0.000000        0.000000     0.000000   \n",
       "75%           0.000000          0.000000        0.000000     0.000000   \n",
       "max           1.000000          1.000000        1.000000     1.000000   \n",
       "\n",
       "       Ã€lex BrendemÃ¼hl  Ã€lex Monner  Äá»— Thá»‹ Háº£i Yáº¿n  \\\n",
       "count        9791.000000   9791.000000             9791.000000   \n",
       "mean            0.000102      0.000102                0.000102   \n",
       "std             0.010106      0.010106                0.010106   \n",
       "min             0.000000      0.000000                0.000000   \n",
       "25%             0.000000      0.000000                0.000000   \n",
       "50%             0.000000      0.000000                0.000000   \n",
       "75%             0.000000      0.000000                0.000000   \n",
       "max             1.000000      1.000000                1.000000   \n",
       "\n",
       "       Å arÅ«nas Bartas  à¸ªà¸£à¸žà¸‡à¸©à¹Œ à¸Šà¸²à¸•à¸£à¸µ    é‚±æ·‘è²ž  \n",
       "count       9791.000000                         9791.000000  9791.000000  \n",
       "mean           0.000102                            0.000102     0.000102  \n",
       "std            0.010106                            0.010106     0.010106  \n",
       "min            0.000000                            0.000000     0.000000  \n",
       "25%            0.000000                            0.000000     0.000000  \n",
       "50%            0.000000                            0.000000     0.000000  \n",
       "75%            0.000000                            0.000000     0.000000  \n",
       "max            1.000000                            1.000000     1.000000  \n",
       "\n",
       "[8 rows x 25034 columns]"
      ]
     },
     "execution_count": 21,
     "metadata": {},
     "output_type": "execute_result"
    }
   ],
   "source": [
    "data.describe()"
   ]
  },
  {
   "cell_type": "code",
   "execution_count": 22,
   "id": "eb41d137",
   "metadata": {
    "collapsed": true
   },
   "outputs": [
    {
     "name": "stdout",
     "output_type": "stream",
     "text": [
      "   popularity   runtime  vote_count  vote_average  release_year    profit  \\\n",
      "0    1.000000  0.141391    0.569027      0.694444           1.0  0.527286   \n",
      "1    0.861581  0.136830    0.632879      0.777778           1.0  0.197239   \n",
      "2    0.397517  0.135690    0.253152      0.666667           1.0  0.184678   \n",
      "3    0.338721  0.155074    0.541355      0.833333           1.0  0.674021   \n",
      "4    0.282997  0.156214    0.301015      0.805556           1.0  0.513539   \n",
      "\n",
      "   Action  Adventure  Animation  Comedy  ...  Ã‰lodie Navarre  \\\n",
      "0     1.0        1.0        0.0     0.0  ...              0.0   \n",
      "1     1.0        1.0        0.0     0.0  ...              0.0   \n",
      "2     0.0        1.0        0.0     0.0  ...              0.0   \n",
      "3     1.0        1.0        0.0     0.0  ...              0.0   \n",
      "4     1.0        0.0        0.0     0.0  ...              0.0   \n",
      "\n",
      "   Ã‰milie Dequenne  Ã‰ric Caravaca  Ã‰va IgÃ³  Ã€lex BrendemÃ¼hl  \\\n",
      "0               0.0             0.0        0.0                0.0   \n",
      "1               0.0             0.0        0.0                0.0   \n",
      "2               0.0             0.0        0.0                0.0   \n",
      "3               0.0             0.0        0.0                0.0   \n",
      "4               0.0             0.0        0.0                0.0   \n",
      "\n",
      "   Ã€lex Monner  Äá»— Thá»‹ Háº£i Yáº¿n  Å arÅ«nas Bartas  \\\n",
      "0           0.0                     0.0               0.0   \n",
      "1           0.0                     0.0               0.0   \n",
      "2           0.0                     0.0               0.0   \n",
      "3           0.0                     0.0               0.0   \n",
      "4           0.0                     0.0               0.0   \n",
      "\n",
      "   à¸ªà¸£à¸žà¸‡à¸©à¹Œ à¸Šà¸²à¸•à¸£à¸µ  é‚±æ·‘è²ž  \n",
      "0                                 0.0        0.0  \n",
      "1                                 0.0        0.0  \n",
      "2                                 0.0        0.0  \n",
      "3                                 0.0        0.0  \n",
      "4                                 0.0        0.0  \n",
      "\n",
      "[5 rows x 25034 columns]\n"
     ]
    }
   ],
   "source": [
    "scaler = preprocessing.MinMaxScaler()\n",
    "names = data.columns\n",
    "d= scaler.fit_transform(data)\n",
    "scaled_df = pd.DataFrame(d, columns=names)\n",
    "print(scaled_df.head())"
   ]
  },
  {
   "cell_type": "code",
   "execution_count": 23,
   "id": "b0509ce5",
   "metadata": {},
   "outputs": [
    {
     "data": {
      "text/plain": [
       "(9791, 25034)"
      ]
     },
     "execution_count": 23,
     "metadata": {},
     "output_type": "execute_result"
    }
   ],
   "source": [
    "data.shape"
   ]
  },
  {
   "cell_type": "code",
   "execution_count": 24,
   "id": "28bb905a",
   "metadata": {},
   "outputs": [
    {
     "name": "stdout",
     "output_type": "stream",
     "text": [
      "Left Columns are :\n",
      "Index(['popularity', 'runtime', 'vote_count', 'vote_average', 'Adventure',\n",
      "       'Amblin Entertainment', 'Eon Productions', 'Heyday Films',\n",
      "       'Hoya Productions', 'Lightstorm Entertainment', 'Lucasfilm',\n",
      "       'Twentieth Century Fox Film Corporation', 'Carrie Fisher',\n",
      "       'Daisy Ridley', 'Emma Watson', 'Robert MacNaughton', 'Rupert Grint'],\n",
      "      dtype='object')\n"
     ]
    }
   ],
   "source": [
    "selector = SelectKBest(score_func = f_regression , k=17)\n",
    "selector.fit(x,y)\n",
    "cols = selector.get_support(indices = True)\n",
    "x = x.iloc[:,cols]\n",
    "print(\"Left Columns are :\")\n",
    "print(x.columns)"
   ]
  },
  {
   "cell_type": "code",
   "execution_count": 403,
   "id": "ba9b2e42",
   "metadata": {},
   "outputs": [],
   "source": [
    "x_train,x_test,y_train,y_test=train_test_split(x , y,test_size=.30)"
   ]
  },
  {
   "cell_type": "code",
   "execution_count": 404,
   "id": "491f7f20",
   "metadata": {},
   "outputs": [],
   "source": [
    "model = LinearRegression().fit(x_train, y_train)"
   ]
  },
  {
   "cell_type": "code",
   "execution_count": 405,
   "id": "0ee2945c",
   "metadata": {},
   "outputs": [
    {
     "name": "stdout",
     "output_type": "stream",
     "text": [
      "0.5446123665559823\n"
     ]
    }
   ],
   "source": [
    "print(model.score(x_train, y_train))"
   ]
  },
  {
   "cell_type": "code",
   "execution_count": 406,
   "id": "463021a7",
   "metadata": {},
   "outputs": [
    {
     "name": "stdout",
     "output_type": "stream",
     "text": [
      "0.5117154127603014\n"
     ]
    }
   ],
   "source": [
    "print(model.score(x_test, y_test))"
   ]
  },
  {
   "cell_type": "code",
   "execution_count": 354,
   "id": "86a026c8",
   "metadata": {},
   "outputs": [],
   "source": [
    "poly = PolynomialFeatures(degree=3, include_bias=False)"
   ]
  },
  {
   "cell_type": "code",
   "execution_count": 221,
   "id": "dba4e53c",
   "metadata": {},
   "outputs": [],
   "source": [
    "X_poly = poly.fit_transform(x)"
   ]
  },
  {
   "cell_type": "code",
   "execution_count": 222,
   "id": "38a8c558",
   "metadata": {},
   "outputs": [
    {
     "data": {
      "text/plain": [
       "LinearRegression()"
      ]
     },
     "execution_count": 222,
     "metadata": {},
     "output_type": "execute_result"
    }
   ],
   "source": [
    "lin_reg2 = LinearRegression()\n",
    "lin_reg2.fit(X_poly,y)"
   ]
  },
  {
   "cell_type": "code",
   "execution_count": 223,
   "id": "f30a8534",
   "metadata": {},
   "outputs": [
    {
     "data": {
      "text/plain": [
       "0.639732657960685"
      ]
     },
     "execution_count": 223,
     "metadata": {},
     "output_type": "execute_result"
    }
   ],
   "source": [
    "lin_reg2.score(X_poly,y)"
   ]
  },
  {
   "cell_type": "code",
   "execution_count": 111,
   "id": "c6964f22",
   "metadata": {
    "scrolled": true
   },
   "outputs": [
    {
     "name": "stdout",
     "output_type": "stream",
     "text": [
      "0.6977592450409685\n",
      "0.5466104483767549\n"
     ]
    }
   ],
   "source": [
    "from sklearn.ensemble import GradientBoostingRegressor\n",
    "model = GradientBoostingRegressor(random_state=0).fit(x_train, y_train)\n",
    "print(model.score(x_train, y_train))\n",
    "print(model.score(x_test, y_test))"
   ]
  },
  {
   "cell_type": "code",
   "execution_count": 112,
   "id": "40862830",
   "metadata": {},
   "outputs": [
    {
     "name": "stdout",
     "output_type": "stream",
     "text": [
      "0.9272927006829369\n",
      "0.5473476288559629\n"
     ]
    }
   ],
   "source": [
    "from sklearn.ensemble import RandomForestRegressor\n",
    "model = RandomForestRegressor(random_state=0).fit(x_train, y_train)\n",
    "print(model.score(x_train, y_train))\n",
    "print(model.score(x_test, y_test))"
   ]
  },
  {
   "cell_type": "code",
   "execution_count": null,
   "id": "25599e21",
   "metadata": {},
   "outputs": [],
   "source": [
    "#data.info()"
   ]
  },
  {
   "cell_type": "code",
   "execution_count": null,
   "id": "e0253c76",
   "metadata": {},
   "outputs": [],
   "source": []
  }
 ],
 "metadata": {
  "kernelspec": {
   "display_name": "Python 3 (ipykernel)",
   "language": "python",
   "name": "python3"
  },
  "language_info": {
   "codemirror_mode": {
    "name": "ipython",
    "version": 3
   },
   "file_extension": ".py",
   "mimetype": "text/x-python",
   "name": "python",
   "nbconvert_exporter": "python",
   "pygments_lexer": "ipython3",
   "version": "3.9.12"
  }
 },
 "nbformat": 4,
 "nbformat_minor": 5
}
